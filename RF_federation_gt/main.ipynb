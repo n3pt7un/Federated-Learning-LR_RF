{
 "cells": [
  {
   "metadata": {
    "ExecuteTime": {
     "end_time": "2025-02-22T15:56:42.241371Z",
     "start_time": "2025-02-22T15:56:42.236269Z"
    }
   },
   "cell_type": "code",
   "source": [
    "from joblib import load, dump\n",
    "from io import BytesIO\n",
    "import numpy as np\n",
    "import pandas as pd\n",
    "\n",
    "def get_model_params(model):\n",
    "    \"\"\"Qui stiamo serailizzando l'intera foresta\"\"\"\n",
    "    buffer = BytesIO()\n",
    "    dump(model, buffer)\n",
    "    buffer.seek(0)\n",
    "    return [np.frombuffer(buffer.getvalue(), dtype=np.uint8)]"
   ],
   "id": "6e9bd4ccd0c3b1ba",
   "outputs": [],
   "execution_count": 17
  },
  {
   "metadata": {
    "ExecuteTime": {
     "end_time": "2025-02-22T16:01:33.693745Z",
     "start_time": "2025-02-22T16:01:33.672741Z"
    }
   },
   "cell_type": "code",
   "source": [
    "from sklearn.ensemble import RandomForestClassifier\n",
    "\n",
    "df = pd.DataFrame({'A': np.random.normal(10), 'B': np.random.normal(10), 'label': np.random.choice(['1', '0'], size=10)})\n",
    "df.head(\n",
    ")"
   ],
   "id": "f5193d6b56e1c3a4",
   "outputs": [
    {
     "data": {
      "text/plain": [
       "          A         B label\n",
       "0  9.648776  8.845481     1\n",
       "1  9.648776  8.845481     0\n",
       "2  9.648776  8.845481     1\n",
       "3  9.648776  8.845481     1\n",
       "4  9.648776  8.845481     0"
      ],
      "text/html": [
       "<div>\n",
       "<style scoped>\n",
       "    .dataframe tbody tr th:only-of-type {\n",
       "        vertical-align: middle;\n",
       "    }\n",
       "\n",
       "    .dataframe tbody tr th {\n",
       "        vertical-align: top;\n",
       "    }\n",
       "\n",
       "    .dataframe thead th {\n",
       "        text-align: right;\n",
       "    }\n",
       "</style>\n",
       "<table border=\"1\" class=\"dataframe\">\n",
       "  <thead>\n",
       "    <tr style=\"text-align: right;\">\n",
       "      <th></th>\n",
       "      <th>A</th>\n",
       "      <th>B</th>\n",
       "      <th>label</th>\n",
       "    </tr>\n",
       "  </thead>\n",
       "  <tbody>\n",
       "    <tr>\n",
       "      <th>0</th>\n",
       "      <td>9.648776</td>\n",
       "      <td>8.845481</td>\n",
       "      <td>1</td>\n",
       "    </tr>\n",
       "    <tr>\n",
       "      <th>1</th>\n",
       "      <td>9.648776</td>\n",
       "      <td>8.845481</td>\n",
       "      <td>0</td>\n",
       "    </tr>\n",
       "    <tr>\n",
       "      <th>2</th>\n",
       "      <td>9.648776</td>\n",
       "      <td>8.845481</td>\n",
       "      <td>1</td>\n",
       "    </tr>\n",
       "    <tr>\n",
       "      <th>3</th>\n",
       "      <td>9.648776</td>\n",
       "      <td>8.845481</td>\n",
       "      <td>1</td>\n",
       "    </tr>\n",
       "    <tr>\n",
       "      <th>4</th>\n",
       "      <td>9.648776</td>\n",
       "      <td>8.845481</td>\n",
       "      <td>0</td>\n",
       "    </tr>\n",
       "  </tbody>\n",
       "</table>\n",
       "</div>"
      ]
     },
     "execution_count": 20,
     "metadata": {},
     "output_type": "execute_result"
    }
   ],
   "execution_count": 20
  },
  {
   "metadata": {
    "ExecuteTime": {
     "end_time": "2025-02-22T16:01:43.068067Z",
     "start_time": "2025-02-22T16:01:42.833175Z"
    }
   },
   "cell_type": "code",
   "source": [
    "\n",
    "rf = RandomForestClassifier(n_estimators=100, max_depth=5)\n",
    "rf.fit(df, df['label'])\n",
    "params = get_model_params(rf)\n",
    "print(params)"
   ],
   "id": "7d938ccbd2bca2bd",
   "outputs": [
    {
     "name": "stdout",
     "output_type": "stream",
     "text": [
      "[array([128,   4, 149, ..., 117,  98,  46], dtype=uint8)]\n"
     ]
    }
   ],
   "execution_count": 21
  },
  {
   "metadata": {
    "ExecuteTime": {
     "end_time": "2025-02-22T16:01:49.050489Z",
     "start_time": "2025-02-22T16:01:49.027638Z"
    }
   },
   "cell_type": "code",
   "source": "print(rf.estimators_)",
   "id": "81373452c01e7540",
   "outputs": [
    {
     "name": "stdout",
     "output_type": "stream",
     "text": [
      "[DecisionTreeClassifier(max_depth=5, max_features='sqrt',\n",
      "                       random_state=1181922886), DecisionTreeClassifier(max_depth=5, max_features='sqrt', random_state=301951942), DecisionTreeClassifier(max_depth=5, max_features='sqrt', random_state=932831322), DecisionTreeClassifier(max_depth=5, max_features='sqrt', random_state=473100014), DecisionTreeClassifier(max_depth=5, max_features='sqrt',\n",
      "                       random_state=1354442794), DecisionTreeClassifier(max_depth=5, max_features='sqrt', random_state=927508512), DecisionTreeClassifier(max_depth=5, max_features='sqrt',\n",
      "                       random_state=1397883333), DecisionTreeClassifier(max_depth=5, max_features='sqrt',\n",
      "                       random_state=2006122220), DecisionTreeClassifier(max_depth=5, max_features='sqrt',\n",
      "                       random_state=1097190279), DecisionTreeClassifier(max_depth=5, max_features='sqrt', random_state=602763055), DecisionTreeClassifier(max_depth=5, max_features='sqrt',\n",
      "                       random_state=1360499877), DecisionTreeClassifier(max_depth=5, max_features='sqrt', random_state=104247053), DecisionTreeClassifier(max_depth=5, max_features='sqrt',\n",
      "                       random_state=1954744364), DecisionTreeClassifier(max_depth=5, max_features='sqrt',\n",
      "                       random_state=1199345705), DecisionTreeClassifier(max_depth=5, max_features='sqrt',\n",
      "                       random_state=1890878822), DecisionTreeClassifier(max_depth=5, max_features='sqrt',\n",
      "                       random_state=1582030991), DecisionTreeClassifier(max_depth=5, max_features='sqrt', random_state=603130513), DecisionTreeClassifier(max_depth=5, max_features='sqrt',\n",
      "                       random_state=1655855732), DecisionTreeClassifier(max_depth=5, max_features='sqrt',\n",
      "                       random_state=1105079857), DecisionTreeClassifier(max_depth=5, max_features='sqrt', random_state=627207298), DecisionTreeClassifier(max_depth=5, max_features='sqrt',\n",
      "                       random_state=1301651205), DecisionTreeClassifier(max_depth=5, max_features='sqrt',\n",
      "                       random_state=1653300903), DecisionTreeClassifier(max_depth=5, max_features='sqrt',\n",
      "                       random_state=1340808221), DecisionTreeClassifier(max_depth=5, max_features='sqrt', random_state=474752231), DecisionTreeClassifier(max_depth=5, max_features='sqrt', random_state=593090677), DecisionTreeClassifier(max_depth=5, max_features='sqrt', random_state=835313358), DecisionTreeClassifier(max_depth=5, max_features='sqrt', random_state=260320866), DecisionTreeClassifier(max_depth=5, max_features='sqrt', random_state=311746538), DecisionTreeClassifier(max_depth=5, max_features='sqrt',\n",
      "                       random_state=1914407989), DecisionTreeClassifier(max_depth=5, max_features='sqrt',\n",
      "                       random_state=1111939604), DecisionTreeClassifier(max_depth=5, max_features='sqrt',\n",
      "                       random_state=1235023235), DecisionTreeClassifier(max_depth=5, max_features='sqrt',\n",
      "                       random_state=1469550894), DecisionTreeClassifier(max_depth=5, max_features='sqrt', random_state=78633297), DecisionTreeClassifier(max_depth=5, max_features='sqrt',\n",
      "                       random_state=1707055481), DecisionTreeClassifier(max_depth=5, max_features='sqrt', random_state=77771328), DecisionTreeClassifier(max_depth=5, max_features='sqrt',\n",
      "                       random_state=1441294924), DecisionTreeClassifier(max_depth=5, max_features='sqrt', random_state=744253497), DecisionTreeClassifier(max_depth=5, max_features='sqrt',\n",
      "                       random_state=1311677616), DecisionTreeClassifier(max_depth=5, max_features='sqrt',\n",
      "                       random_state=1634718215), DecisionTreeClassifier(max_depth=5, max_features='sqrt', random_state=151604350), DecisionTreeClassifier(max_depth=5, max_features='sqrt', random_state=348297884), DecisionTreeClassifier(max_depth=5, max_features='sqrt',\n",
      "                       random_state=1887453453), DecisionTreeClassifier(max_depth=5, max_features='sqrt', random_state=671654895), DecisionTreeClassifier(max_depth=5, max_features='sqrt',\n",
      "                       random_state=1011347724), DecisionTreeClassifier(max_depth=5, max_features='sqrt', random_state=626227573), DecisionTreeClassifier(max_depth=5, max_features='sqrt',\n",
      "                       random_state=1446862479), DecisionTreeClassifier(max_depth=5, max_features='sqrt',\n",
      "                       random_state=2086688414), DecisionTreeClassifier(max_depth=5, max_features='sqrt', random_state=90966394), DecisionTreeClassifier(max_depth=5, max_features='sqrt',\n",
      "                       random_state=1169424779), DecisionTreeClassifier(max_depth=5, max_features='sqrt', random_state=503819236), DecisionTreeClassifier(max_depth=5, max_features='sqrt',\n",
      "                       random_state=2088882557), DecisionTreeClassifier(max_depth=5, max_features='sqrt', random_state=359808226), DecisionTreeClassifier(max_depth=5, max_features='sqrt', random_state=284589340), DecisionTreeClassifier(max_depth=5, max_features='sqrt', random_state=200944679), DecisionTreeClassifier(max_depth=5, max_features='sqrt', random_state=682488712), DecisionTreeClassifier(max_depth=5, max_features='sqrt', random_state=270251266), DecisionTreeClassifier(max_depth=5, max_features='sqrt',\n",
      "                       random_state=1755886834), DecisionTreeClassifier(max_depth=5, max_features='sqrt',\n",
      "                       random_state=2008803993), DecisionTreeClassifier(max_depth=5, max_features='sqrt',\n",
      "                       random_state=2143176197), DecisionTreeClassifier(max_depth=5, max_features='sqrt', random_state=570408415), DecisionTreeClassifier(max_depth=5, max_features='sqrt', random_state=793140264), DecisionTreeClassifier(max_depth=5, max_features='sqrt',\n",
      "                       random_state=1535729074), DecisionTreeClassifier(max_depth=5, max_features='sqrt', random_state=162288385), DecisionTreeClassifier(max_depth=5, max_features='sqrt', random_state=672570114), DecisionTreeClassifier(max_depth=5, max_features='sqrt',\n",
      "                       random_state=1324215670), DecisionTreeClassifier(max_depth=5, max_features='sqrt',\n",
      "                       random_state=1683149889), DecisionTreeClassifier(max_depth=5, max_features='sqrt', random_state=583811014), DecisionTreeClassifier(max_depth=5, max_features='sqrt', random_state=676628954), DecisionTreeClassifier(max_depth=5, max_features='sqrt',\n",
      "                       random_state=1669443972), DecisionTreeClassifier(max_depth=5, max_features='sqrt',\n",
      "                       random_state=1221797803), DecisionTreeClassifier(max_depth=5, max_features='sqrt', random_state=469767644), DecisionTreeClassifier(max_depth=5, max_features='sqrt', random_state=562819703), DecisionTreeClassifier(max_depth=5, max_features='sqrt',\n",
      "                       random_state=1238103883), DecisionTreeClassifier(max_depth=5, max_features='sqrt',\n",
      "                       random_state=1033226385), DecisionTreeClassifier(max_depth=5, max_features='sqrt',\n",
      "                       random_state=1887291568), DecisionTreeClassifier(max_depth=5, max_features='sqrt', random_state=374582827), DecisionTreeClassifier(max_depth=5, max_features='sqrt',\n",
      "                       random_state=1590325801), DecisionTreeClassifier(max_depth=5, max_features='sqrt',\n",
      "                       random_state=1961017755), DecisionTreeClassifier(max_depth=5, max_features='sqrt',\n",
      "                       random_state=1780953609), DecisionTreeClassifier(max_depth=5, max_features='sqrt', random_state=948669956), DecisionTreeClassifier(max_depth=5, max_features='sqrt', random_state=619018646), DecisionTreeClassifier(max_depth=5, max_features='sqrt', random_state=552355596), DecisionTreeClassifier(max_depth=5, max_features='sqrt',\n",
      "                       random_state=1295430535), DecisionTreeClassifier(max_depth=5, max_features='sqrt',\n",
      "                       random_state=2002088274), DecisionTreeClassifier(max_depth=5, max_features='sqrt',\n",
      "                       random_state=1770671313), DecisionTreeClassifier(max_depth=5, max_features='sqrt', random_state=585470560), DecisionTreeClassifier(max_depth=5, max_features='sqrt',\n",
      "                       random_state=1827622518), DecisionTreeClassifier(max_depth=5, max_features='sqrt',\n",
      "                       random_state=1026928798), DecisionTreeClassifier(max_depth=5, max_features='sqrt',\n",
      "                       random_state=1797459249), DecisionTreeClassifier(max_depth=5, max_features='sqrt', random_state=686765684), DecisionTreeClassifier(max_depth=5, max_features='sqrt', random_state=64551311), DecisionTreeClassifier(max_depth=5, max_features='sqrt',\n",
      "                       random_state=2092299930), DecisionTreeClassifier(max_depth=5, max_features='sqrt', random_state=382523606), DecisionTreeClassifier(max_depth=5, max_features='sqrt',\n",
      "                       random_state=1421713142), DecisionTreeClassifier(max_depth=5, max_features='sqrt', random_state=792229869), DecisionTreeClassifier(max_depth=5, max_features='sqrt',\n",
      "                       random_state=1070991222), DecisionTreeClassifier(max_depth=5, max_features='sqrt',\n",
      "                       random_state=1659918264), DecisionTreeClassifier(max_depth=5, max_features='sqrt',\n",
      "                       random_state=2140331866), DecisionTreeClassifier(max_depth=5, max_features='sqrt', random_state=18580932), DecisionTreeClassifier(max_depth=5, max_features='sqrt', random_state=351209949)]\n"
     ]
    }
   ],
   "execution_count": 22
  },
  {
   "metadata": {
    "ExecuteTime": {
     "end_time": "2025-02-22T16:01:56.828040Z",
     "start_time": "2025-02-22T16:01:56.816176Z"
    }
   },
   "cell_type": "code",
   "source": [
    "def set_model_params(model, params):\n",
    "    \"\"\"Deserializzazione\"\"\"\n",
    "    buffer = BytesIO(params[0].tobytes())\n",
    "    aggregated_model = load(buffer)\n",
    "    model.n_estimators = len(aggregated_model.estimators_)\n",
    "    model.estimators_ = aggregated_model.estimators_\n",
    "\n",
    "    return model"
   ],
   "id": "27363b5b52d6c452",
   "outputs": [],
   "execution_count": 24
  },
  {
   "metadata": {
    "ExecuteTime": {
     "end_time": "2025-02-22T16:01:58.590351Z",
     "start_time": "2025-02-22T16:01:58.557523Z"
    }
   },
   "cell_type": "code",
   "source": [
    "model = set_model_params(rf, params)\n",
    "print(model)"
   ],
   "id": "661a3ac67d867774",
   "outputs": [
    {
     "name": "stdout",
     "output_type": "stream",
     "text": [
      "RandomForestClassifier(max_depth=5)\n"
     ]
    }
   ],
   "execution_count": 25
  },
  {
   "metadata": {
    "ExecuteTime": {
     "start_time": "2025-02-23T12:46:58.808704Z"
    }
   },
   "cell_type": "code",
   "source": [
    "\"\"\"new-new-new-federation: A Flower / sklearn app.\"\"\"\n",
    "\n",
    "import numpy as np\n",
    "import pandas as pd\n",
    "from flwr_datasets import FederatedDataset\n",
    "from flwr_datasets.partitioner import IidPartitioner\n",
    "from sklearn.ensemble import RandomForestClassifier\n",
    "from joblib import load, dump\n",
    "from io import BytesIO\n",
    "\n",
    "fds = None  # Cache FederatedDataset\n",
    "\n",
    "\n",
    "def load_data(partition_id: int, num_partitions: int):\n",
    "    \"\"\"Load partition Kitsune data.\"\"\"\n",
    "    global fds\n",
    "    if fds is None:\n",
    "        partitioner = IidPartitioner(num_partitions=num_partitions)\n",
    "        fds = FederatedDataset(\n",
    "            dataset=\"n3p7un/KitsuneSystemAttackData_osScanDataset\",\n",
    "            partitioners={\"train\": partitioner},\n",
    "        )\n",
    "\n",
    "    dataset = fds.load_partition(partition_id, \"train\").with_format(\"numpy\")\n",
    "\n",
    "    # Get feature column names (exclude label and Unnamed: 0)\n",
    "    feature_columns = [col for col in dataset.column_names if col not in [\"label\", \"Unnamed: 0\"]]\n",
    "\n",
    "    # Extract features as a list of 1D arrays and stack them into 2D\n",
    "    feature_arrays = [dataset[col] for col in feature_columns]\n",
    "    X = np.column_stack(feature_arrays)  # Now shape (num_samples, num_features)\n",
    "    y = dataset[\"label\"]\n",
    "\n",
    "    # Split data\n",
    "    X_train, X_test = X[: int(0.8 * len(X))], X[int(0.8 * len(X)):]\n",
    "    y_train, y_test = y[: int(0.8 * len(y))], y[int(0.8 * len(y)):]\n",
    "\n",
    "    #print(f\"X_train shape: {X_train.shape}\")  # Should be (samples, features)\n",
    "    #print(f\"X_test shape: {X_test.shape}\")  # Should be 2D\n",
    "    return X_train, X_test, y_train, y_test\n",
    "\n",
    "load_data(1, 2)"
   ],
   "id": "ff4c3b364940da08",
   "outputs": [
    {
     "name": "stderr",
     "output_type": "stream",
     "text": [
      "C:\\Users\\vnvtr\\AppData\\Local\\Programs\\Python\\Python312\\Lib\\site-packages\\flwr_datasets\\utils.py:109: UserWarning: The currently tested dataset are ['mnist', 'ylecun/mnist', 'cifar10', 'uoft-cs/cifar10', 'fashion_mnist', 'zalando-datasets/fashion_mnist', 'sasha/dog-food', 'zh-plus/tiny-imagenet', 'scikit-learn/adult-census-income', 'cifar100', 'uoft-cs/cifar100', 'svhn', 'ufldl-stanford/svhn', 'sentiment140', 'stanfordnlp/sentiment140', 'speech_commands', 'LIUM/tedlium', 'flwrlabs/femnist', 'flwrlabs/ucf101', 'flwrlabs/ambient-acoustic-context', 'jlh/uci-mushrooms', 'Mike0307/MNIST-M', 'flwrlabs/usps', 'scikit-learn/iris', 'flwrlabs/pacs', 'flwrlabs/cinic10', 'flwrlabs/caltech101', 'flwrlabs/office-home', 'flwrlabs/fed-isic2019']. Given: n3p7un/KitsuneSystemAttackData_osScanDataset.\n",
      "  warnings.warn(\n"
     ]
    },
    {
     "ename": "KeyboardInterrupt",
     "evalue": "",
     "output_type": "error",
     "traceback": [
      "\u001B[1;31m---------------------------------------------------------------------------\u001B[0m",
      "\u001B[1;31mKeyboardInterrupt\u001B[0m                         Traceback (most recent call last)",
      "Cell \u001B[1;32mIn[4], line 42\u001B[0m\n\u001B[0;32m     38\u001B[0m     \u001B[38;5;66;03m#print(f\"X_train shape: {X_train.shape}\")  # Should be (samples, features)\u001B[39;00m\n\u001B[0;32m     39\u001B[0m     \u001B[38;5;66;03m#print(f\"X_test shape: {X_test.shape}\")  # Should be 2D\u001B[39;00m\n\u001B[0;32m     40\u001B[0m     \u001B[38;5;28;01mreturn\u001B[39;00m X_train, X_test, y_train, y_test\n\u001B[1;32m---> 42\u001B[0m \u001B[43mload_data\u001B[49m\u001B[43m(\u001B[49m\u001B[38;5;241;43m1\u001B[39;49m\u001B[43m,\u001B[49m\u001B[43m \u001B[49m\u001B[38;5;241;43m2\u001B[39;49m\u001B[43m)\u001B[49m\n",
      "Cell \u001B[1;32mIn[4], line 30\u001B[0m, in \u001B[0;36mload_data\u001B[1;34m(partition_id, num_partitions)\u001B[0m\n\u001B[0;32m     27\u001B[0m feature_columns \u001B[38;5;241m=\u001B[39m [col \u001B[38;5;28;01mfor\u001B[39;00m col \u001B[38;5;129;01min\u001B[39;00m dataset\u001B[38;5;241m.\u001B[39mcolumn_names \u001B[38;5;28;01mif\u001B[39;00m col \u001B[38;5;129;01mnot\u001B[39;00m \u001B[38;5;129;01min\u001B[39;00m [\u001B[38;5;124m\"\u001B[39m\u001B[38;5;124mlabel\u001B[39m\u001B[38;5;124m\"\u001B[39m, \u001B[38;5;124m\"\u001B[39m\u001B[38;5;124mUnnamed: 0\u001B[39m\u001B[38;5;124m\"\u001B[39m]]\n\u001B[0;32m     29\u001B[0m \u001B[38;5;66;03m# Extract features as a list of 1D arrays and stack them into 2D\u001B[39;00m\n\u001B[1;32m---> 30\u001B[0m feature_arrays \u001B[38;5;241m=\u001B[39m [\u001B[43mdataset\u001B[49m\u001B[43m[\u001B[49m\u001B[43mcol\u001B[49m\u001B[43m]\u001B[49m \u001B[38;5;28;01mfor\u001B[39;00m col \u001B[38;5;129;01min\u001B[39;00m feature_columns]\n\u001B[0;32m     31\u001B[0m X \u001B[38;5;241m=\u001B[39m np\u001B[38;5;241m.\u001B[39mcolumn_stack(feature_arrays)  \u001B[38;5;66;03m# Now shape (num_samples, num_features)\u001B[39;00m\n\u001B[0;32m     32\u001B[0m y \u001B[38;5;241m=\u001B[39m dataset[\u001B[38;5;124m\"\u001B[39m\u001B[38;5;124mlabel\u001B[39m\u001B[38;5;124m\"\u001B[39m]\n",
      "File \u001B[1;32m~\\AppData\\Local\\Programs\\Python\\Python312\\Lib\\site-packages\\datasets\\arrow_dataset.py:2762\u001B[0m, in \u001B[0;36mDataset.__getitem__\u001B[1;34m(self, key)\u001B[0m\n\u001B[0;32m   2760\u001B[0m \u001B[38;5;28;01mdef\u001B[39;00m \u001B[38;5;21m__getitem__\u001B[39m(\u001B[38;5;28mself\u001B[39m, key):  \u001B[38;5;66;03m# noqa: F811\u001B[39;00m\n\u001B[0;32m   2761\u001B[0m \u001B[38;5;250m    \u001B[39m\u001B[38;5;124;03m\"\"\"Can be used to index columns (by string names) or rows (by integer index or iterable of indices or bools).\"\"\"\u001B[39;00m\n\u001B[1;32m-> 2762\u001B[0m     \u001B[38;5;28;01mreturn\u001B[39;00m \u001B[38;5;28;43mself\u001B[39;49m\u001B[38;5;241;43m.\u001B[39;49m\u001B[43m_getitem\u001B[49m\u001B[43m(\u001B[49m\u001B[43mkey\u001B[49m\u001B[43m)\u001B[49m\n",
      "File \u001B[1;32m~\\AppData\\Local\\Programs\\Python\\Python312\\Lib\\site-packages\\datasets\\arrow_dataset.py:2747\u001B[0m, in \u001B[0;36mDataset._getitem\u001B[1;34m(self, key, **kwargs)\u001B[0m\n\u001B[0;32m   2745\u001B[0m formatter \u001B[38;5;241m=\u001B[39m get_formatter(format_type, features\u001B[38;5;241m=\u001B[39m\u001B[38;5;28mself\u001B[39m\u001B[38;5;241m.\u001B[39m_info\u001B[38;5;241m.\u001B[39mfeatures, \u001B[38;5;241m*\u001B[39m\u001B[38;5;241m*\u001B[39mformat_kwargs)\n\u001B[0;32m   2746\u001B[0m pa_subtable \u001B[38;5;241m=\u001B[39m query_table(\u001B[38;5;28mself\u001B[39m\u001B[38;5;241m.\u001B[39m_data, key, indices\u001B[38;5;241m=\u001B[39m\u001B[38;5;28mself\u001B[39m\u001B[38;5;241m.\u001B[39m_indices)\n\u001B[1;32m-> 2747\u001B[0m formatted_output \u001B[38;5;241m=\u001B[39m \u001B[43mformat_table\u001B[49m\u001B[43m(\u001B[49m\n\u001B[0;32m   2748\u001B[0m \u001B[43m    \u001B[49m\u001B[43mpa_subtable\u001B[49m\u001B[43m,\u001B[49m\u001B[43m \u001B[49m\u001B[43mkey\u001B[49m\u001B[43m,\u001B[49m\u001B[43m \u001B[49m\u001B[43mformatter\u001B[49m\u001B[38;5;241;43m=\u001B[39;49m\u001B[43mformatter\u001B[49m\u001B[43m,\u001B[49m\u001B[43m \u001B[49m\u001B[43mformat_columns\u001B[49m\u001B[38;5;241;43m=\u001B[39;49m\u001B[43mformat_columns\u001B[49m\u001B[43m,\u001B[49m\u001B[43m \u001B[49m\u001B[43moutput_all_columns\u001B[49m\u001B[38;5;241;43m=\u001B[39;49m\u001B[43moutput_all_columns\u001B[49m\n\u001B[0;32m   2749\u001B[0m \u001B[43m\u001B[49m\u001B[43m)\u001B[49m\n\u001B[0;32m   2750\u001B[0m \u001B[38;5;28;01mreturn\u001B[39;00m formatted_output\n",
      "File \u001B[1;32m~\\AppData\\Local\\Programs\\Python\\Python312\\Lib\\site-packages\\datasets\\formatting\\formatting.py:639\u001B[0m, in \u001B[0;36mformat_table\u001B[1;34m(table, key, formatter, format_columns, output_all_columns)\u001B[0m\n\u001B[0;32m    637\u001B[0m python_formatter \u001B[38;5;241m=\u001B[39m PythonFormatter(features\u001B[38;5;241m=\u001B[39mformatter\u001B[38;5;241m.\u001B[39mfeatures)\n\u001B[0;32m    638\u001B[0m \u001B[38;5;28;01mif\u001B[39;00m format_columns \u001B[38;5;129;01mis\u001B[39;00m \u001B[38;5;28;01mNone\u001B[39;00m:\n\u001B[1;32m--> 639\u001B[0m     \u001B[38;5;28;01mreturn\u001B[39;00m \u001B[43mformatter\u001B[49m\u001B[43m(\u001B[49m\u001B[43mpa_table\u001B[49m\u001B[43m,\u001B[49m\u001B[43m \u001B[49m\u001B[43mquery_type\u001B[49m\u001B[38;5;241;43m=\u001B[39;49m\u001B[43mquery_type\u001B[49m\u001B[43m)\u001B[49m\n\u001B[0;32m    640\u001B[0m \u001B[38;5;28;01melif\u001B[39;00m query_type \u001B[38;5;241m==\u001B[39m \u001B[38;5;124m\"\u001B[39m\u001B[38;5;124mcolumn\u001B[39m\u001B[38;5;124m\"\u001B[39m:\n\u001B[0;32m    641\u001B[0m     \u001B[38;5;28;01mif\u001B[39;00m key \u001B[38;5;129;01min\u001B[39;00m format_columns:\n",
      "File \u001B[1;32m~\\AppData\\Local\\Programs\\Python\\Python312\\Lib\\site-packages\\datasets\\formatting\\formatting.py:405\u001B[0m, in \u001B[0;36mFormatter.__call__\u001B[1;34m(self, pa_table, query_type)\u001B[0m\n\u001B[0;32m    403\u001B[0m     \u001B[38;5;28;01mreturn\u001B[39;00m \u001B[38;5;28mself\u001B[39m\u001B[38;5;241m.\u001B[39mformat_row(pa_table)\n\u001B[0;32m    404\u001B[0m \u001B[38;5;28;01melif\u001B[39;00m query_type \u001B[38;5;241m==\u001B[39m \u001B[38;5;124m\"\u001B[39m\u001B[38;5;124mcolumn\u001B[39m\u001B[38;5;124m\"\u001B[39m:\n\u001B[1;32m--> 405\u001B[0m     \u001B[38;5;28;01mreturn\u001B[39;00m \u001B[38;5;28;43mself\u001B[39;49m\u001B[38;5;241;43m.\u001B[39;49m\u001B[43mformat_column\u001B[49m\u001B[43m(\u001B[49m\u001B[43mpa_table\u001B[49m\u001B[43m)\u001B[49m\n\u001B[0;32m    406\u001B[0m \u001B[38;5;28;01melif\u001B[39;00m query_type \u001B[38;5;241m==\u001B[39m \u001B[38;5;124m\"\u001B[39m\u001B[38;5;124mbatch\u001B[39m\u001B[38;5;124m\"\u001B[39m:\n\u001B[0;32m    407\u001B[0m     \u001B[38;5;28;01mreturn\u001B[39;00m \u001B[38;5;28mself\u001B[39m\u001B[38;5;241m.\u001B[39mformat_batch(pa_table)\n",
      "File \u001B[1;32m~\\AppData\\Local\\Programs\\Python\\Python312\\Lib\\site-packages\\datasets\\formatting\\np_formatter.py:106\u001B[0m, in \u001B[0;36mNumpyFormatter.format_column\u001B[1;34m(self, pa_table)\u001B[0m\n\u001B[0;32m    105\u001B[0m \u001B[38;5;28;01mdef\u001B[39;00m \u001B[38;5;21mformat_column\u001B[39m(\u001B[38;5;28mself\u001B[39m, pa_table: pa\u001B[38;5;241m.\u001B[39mTable) \u001B[38;5;241m-\u001B[39m\u001B[38;5;241m>\u001B[39m np\u001B[38;5;241m.\u001B[39mndarray:\n\u001B[1;32m--> 106\u001B[0m     column \u001B[38;5;241m=\u001B[39m \u001B[38;5;28;43mself\u001B[39;49m\u001B[38;5;241;43m.\u001B[39;49m\u001B[43mnumpy_arrow_extractor\u001B[49m\u001B[43m(\u001B[49m\u001B[43m)\u001B[49m\u001B[38;5;241;43m.\u001B[39;49m\u001B[43mextract_column\u001B[49m\u001B[43m(\u001B[49m\u001B[43mpa_table\u001B[49m\u001B[43m)\u001B[49m\n\u001B[0;32m    107\u001B[0m     column \u001B[38;5;241m=\u001B[39m \u001B[38;5;28mself\u001B[39m\u001B[38;5;241m.\u001B[39mpython_features_decoder\u001B[38;5;241m.\u001B[39mdecode_column(column, pa_table\u001B[38;5;241m.\u001B[39mcolumn_names[\u001B[38;5;241m0\u001B[39m])\n\u001B[0;32m    108\u001B[0m     column \u001B[38;5;241m=\u001B[39m \u001B[38;5;28mself\u001B[39m\u001B[38;5;241m.\u001B[39mrecursive_tensorize(column)\n",
      "File \u001B[1;32m~\\AppData\\Local\\Programs\\Python\\Python312\\Lib\\site-packages\\datasets\\formatting\\formatting.py:162\u001B[0m, in \u001B[0;36mNumpyArrowExtractor.extract_column\u001B[1;34m(self, pa_table)\u001B[0m\n\u001B[0;32m    161\u001B[0m \u001B[38;5;28;01mdef\u001B[39;00m \u001B[38;5;21mextract_column\u001B[39m(\u001B[38;5;28mself\u001B[39m, pa_table: pa\u001B[38;5;241m.\u001B[39mTable) \u001B[38;5;241m-\u001B[39m\u001B[38;5;241m>\u001B[39m np\u001B[38;5;241m.\u001B[39mndarray:\n\u001B[1;32m--> 162\u001B[0m     \u001B[38;5;28;01mreturn\u001B[39;00m \u001B[38;5;28;43mself\u001B[39;49m\u001B[38;5;241;43m.\u001B[39;49m\u001B[43m_arrow_array_to_numpy\u001B[49m\u001B[43m(\u001B[49m\u001B[43mpa_table\u001B[49m\u001B[43m[\u001B[49m\u001B[43mpa_table\u001B[49m\u001B[38;5;241;43m.\u001B[39;49m\u001B[43mcolumn_names\u001B[49m\u001B[43m[\u001B[49m\u001B[38;5;241;43m0\u001B[39;49m\u001B[43m]\u001B[49m\u001B[43m]\u001B[49m\u001B[43m)\u001B[49m\n",
      "File \u001B[1;32m~\\AppData\\Local\\Programs\\Python\\Python312\\Lib\\site-packages\\datasets\\formatting\\formatting.py:180\u001B[0m, in \u001B[0;36mNumpyArrowExtractor._arrow_array_to_numpy\u001B[1;34m(self, pa_array)\u001B[0m\n\u001B[0;32m    175\u001B[0m     \u001B[38;5;28;01melse\u001B[39;00m:\n\u001B[0;32m    176\u001B[0m         zero_copy_only \u001B[38;5;241m=\u001B[39m _is_zero_copy_only(pa_array\u001B[38;5;241m.\u001B[39mtype) \u001B[38;5;129;01mand\u001B[39;00m \u001B[38;5;28mall\u001B[39m(\n\u001B[0;32m    177\u001B[0m             \u001B[38;5;129;01mnot\u001B[39;00m _is_array_with_nulls(chunk) \u001B[38;5;28;01mfor\u001B[39;00m chunk \u001B[38;5;129;01min\u001B[39;00m pa_array\u001B[38;5;241m.\u001B[39mchunks\n\u001B[0;32m    178\u001B[0m         )\n\u001B[0;32m    179\u001B[0m         array: List \u001B[38;5;241m=\u001B[39m [\n\u001B[1;32m--> 180\u001B[0m             row \u001B[38;5;28;01mfor\u001B[39;00m chunk \u001B[38;5;129;01min\u001B[39;00m pa_array\u001B[38;5;241m.\u001B[39mchunks \u001B[38;5;28;01mfor\u001B[39;00m row \u001B[38;5;129;01min\u001B[39;00m \u001B[43mchunk\u001B[49m\u001B[38;5;241;43m.\u001B[39;49m\u001B[43mto_numpy\u001B[49m\u001B[43m(\u001B[49m\u001B[43mzero_copy_only\u001B[49m\u001B[38;5;241;43m=\u001B[39;49m\u001B[43mzero_copy_only\u001B[49m\u001B[43m)\u001B[49m\n\u001B[0;32m    181\u001B[0m         ]\n\u001B[0;32m    182\u001B[0m \u001B[38;5;28;01melse\u001B[39;00m:\n\u001B[0;32m    183\u001B[0m     \u001B[38;5;28;01mif\u001B[39;00m \u001B[38;5;28misinstance\u001B[39m(pa_array\u001B[38;5;241m.\u001B[39mtype, _ArrayXDExtensionType):\n\u001B[0;32m    184\u001B[0m         \u001B[38;5;66;03m# don't call to_pylist() to preserve dtype of the fixed-size array\u001B[39;00m\n",
      "\u001B[1;31mKeyboardInterrupt\u001B[0m: "
     ]
    }
   ],
   "execution_count": 4
  },
  {
   "metadata": {
    "ExecuteTime": {
     "end_time": "2025-02-23T12:54:36.687393Z",
     "start_time": "2025-02-23T12:54:36.686394Z"
    }
   },
   "cell_type": "code",
   "source": [
    "# Load centralized test dataset from fds partition\n",
    "test = fds.load_partition('test')[0].with_format('numpy')\n",
    "    # Get feature column names (exclude label and Unnamed: 0)\n",
    "feature_columns = [col for col in dataset.column_names if col not in [\"label\", \"Unnamed: 0\"]]\n",
    "    # Extract features as a list of 1D arrays and stack them into 2D\n",
    "feature_arrays = [dataset[col] for col in feature_columns]\n",
    "X_test = np.column_stack(feature_arrays)\n",
    "y_test = dataset[\"label\"]"
   ],
   "id": "73ef86ecc1942e12",
   "outputs": [],
   "execution_count": null
  }
 ],
 "metadata": {
  "kernelspec": {
   "display_name": "Python 3",
   "language": "python",
   "name": "python3"
  },
  "language_info": {
   "codemirror_mode": {
    "name": "ipython",
    "version": 2
   },
   "file_extension": ".py",
   "mimetype": "text/x-python",
   "name": "python",
   "nbconvert_exporter": "python",
   "pygments_lexer": "ipython2",
   "version": "2.7.6"
  }
 },
 "nbformat": 4,
 "nbformat_minor": 5
}
